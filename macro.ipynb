{
 "cells": [
  {
   "cell_type": "code",
   "execution_count": 1,
   "metadata": {},
   "outputs": [],
   "source": [
    "import scipy.integrate as integrate\n",
    "import scipy.special as special\n",
    "from numpy import sqrt, sin, cos, pi,log\n",
    "from scipy.integrate import quad\n",
    "import scipy.stats as sps\n",
    "from scipy import optimize\n",
    "from numpy import arange\n",
    "import matplotlib.pyplot as plt\n",
    "import numpy as np\n",
    "from scipy.optimize import fsolve\n",
    "import math"
   ]
  },
  {
   "cell_type": "code",
   "execution_count": 2,
   "metadata": {},
   "outputs": [],
   "source": [
    "alpha=0.36\n",
    "beta=0.36\n",
    "delta=0.025\n",
    "al=0.7\n",
    "eg=1.5\n",
    "eb=0.5\n",
    "def equations(p):\n",
    "    c0,km,kh,hhg,hhb,hmg,hmb=p\n",
    "    eq1=0.5*(al*(1+r)/((1+r)*km+w*eg*hmg)+al*(1+r)/(2*(1+r)*km+w*eb*hmb))-1/c0\n",
    "    eq2=(1-al)*beta/kh-1/c0\n",
    "    eq3=(1-al)*(1-beta)/hhg-1/(1-hmg-hhg)\n",
    "    eq4=(1-al)*(1-beta)/hhb-1/(1-hmb-hhb)\n",
    "    eq5=al*w*eg/((1+r)*km+w*eg*hmg)-1/(1-hmg-hhg)\n",
    "    eq6=al*w*eb/((1+r)*km+w*eb*hmb)-1/(1-hmb-hhb)\n",
    "    eq7=c0+kh+km-w0\n",
    "    return (eq1,eq2,eq3,eq4,eq5,eq6,eq7)"
   ]
  },
  {
   "cell_type": "code",
   "execution_count": 3,
   "metadata": {},
   "outputs": [
    {
     "name": "stderr",
     "output_type": "stream",
     "text": [
      "/opt/conda/lib/python3.8/site-packages/scipy/optimize/minpack.py:175: RuntimeWarning: The iteration is not making good progress, as measured by the \n",
      "  improvement from the last ten iterations.\n",
      "  warnings.warn(msg, RuntimeWarning)\n",
      "/opt/conda/lib/python3.8/site-packages/scipy/optimize/minpack.py:175: RuntimeWarning: The iteration is not making good progress, as measured by the \n",
      "  improvement from the last five Jacobian evaluations.\n",
      "  warnings.warn(msg, RuntimeWarning)\n"
     ]
    },
    {
     "name": "stdout",
     "output_type": "stream",
     "text": [
      "0.2560765201008021 0.12856127047215182\n",
      "0.25289504181243827 0.1360423661469565\n"
     ]
    }
   ],
   "source": [
    "for l in arange(0.01,0.6,0.01):\n",
    "    for kbar in arange(0.01,0.9,0.01):\n",
    "        w0=1\n",
    "#         kbar=0.32523549188544737\n",
    "#         l=0.23947446371155834\n",
    "        w=(1-alpha)*kbar**(alpha)*l**(-alpha)\n",
    "        r=alpha*kbar**(alpha-1)*l**(1-alpha)-delta\n",
    "        c0,km,kh,hhg,hhb,hmg,hmb =  fsolve(equations, (0.001,0.001,0.001,0.001,0.001,0.001,0.001))\n",
    "        #     print(w,kbar,w,r)\n",
    "        if (km-kbar)**(2)<0.0001 and (l-0.5*(eg*hmg+eb*hmb))**(2)<0.0001:\n",
    "            print(km,0.5*(eg*hmg+eb*hmb))"
   ]
  },
  {
   "cell_type": "code",
   "execution_count": null,
   "metadata": {},
   "outputs": [],
   "source": []
  }
 ],
 "metadata": {
  "kernelspec": {
   "display_name": "Python 3",
   "language": "python",
   "name": "python3"
  },
  "language_info": {
   "codemirror_mode": {
    "name": "ipython",
    "version": 3
   },
   "file_extension": ".py",
   "mimetype": "text/x-python",
   "name": "python",
   "nbconvert_exporter": "python",
   "pygments_lexer": "ipython3",
   "version": "3.8.6"
  }
 },
 "nbformat": 4,
 "nbformat_minor": 4
}
